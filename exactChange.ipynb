{
 "cells": [
  {
   "cell_type": "code",
   "execution_count": 1,
   "id": "11b21f9a",
   "metadata": {},
   "outputs": [],
   "source": [
    "import warnings\n",
    "warnings.filterwarnings('ignore')\n",
    "import ipywidgets as widgets\n",
    "from IPython.display import display, clear_output\n"
   ]
  },
  {
   "cell_type": "code",
   "execution_count": 2,
   "id": "d17c2216",
   "metadata": {},
   "outputs": [],
   "source": [
    "# Image Widget\n",
    "\n",
    "file = open(\"change.jpeg\", \"rb\")\n",
    "image = file.read()\n",
    "\n",
    "image_headline = widgets.Image(\n",
    "                    value = image,\n",
    "                    format = \"jpeg\",\n",
    "                    width = \"350\"\n",
    "                )\n",
    "\n",
    "label_headline = widgets.Label(\n",
    "                    style = {\"description_width\": \"initial\"}\n",
    "                )\n",
    "\n",
    "vbox_headline = widgets.VBox([image_headline, label_headline])"
   ]
  },
  {
   "cell_type": "code",
   "execution_count": 3,
   "id": "c0cf68cf",
   "metadata": {},
   "outputs": [],
   "source": [
    "# Cost\n",
    "cost = widgets.Text(placeholder = \"Cost\")\n",
    "    "
   ]
  },
  {
   "cell_type": "code",
   "execution_count": 4,
   "id": "78c772af",
   "metadata": {},
   "outputs": [],
   "source": [
    "# Cash Given\n",
    "cash = widgets.Text(placeholder = \"Cash Given\")\n",
    "    "
   ]
  },
  {
   "cell_type": "code",
   "execution_count": 5,
   "id": "4c1de2c4",
   "metadata": {},
   "outputs": [],
   "source": [
    "def change_given(cost, cash, lst):\n",
    "    change = cash - cost\n",
    "    lst.sort(reverse=True)\n",
    "    array = []\n",
    "    for i in range(len(lst)):\n",
    "        if isDivisible(round(change, 2), lst[i]):\n",
    "            coin = lst[i]\n",
    "            if change < 0.05:\n",
    "                numCoins = change/coin\n",
    "            else:\n",
    "                numCoins = change//coin\n",
    "            change = round(change - numCoins*coin, 2)\n",
    "            coin = \"{:.2f}\".format(coin)\n",
    "            array.append((coin, numCoins))\n",
    "    initial_change = \"{:.2f}\".format(cash-cost)\n",
    "    return (initial_change), array\n"
   ]
  },
  {
   "cell_type": "code",
   "execution_count": 6,
   "id": "ff4f7b00",
   "metadata": {},
   "outputs": [],
   "source": [
    "# Button Send\n",
    "\n",
    "button_send = widgets.Button(\n",
    "                description = \"Submit\",\n",
    "                tooltip = \"Send\",\n",
    "                style = {'description_width': 'initial'}\n",
    "            )\n",
    "\n",
    "output = widgets.Output()\n",
    "\n",
    "def on_button_clicked(event):\n",
    "    coins_dollars = [.01, .05, .10, .25, 1.00, 5.00, 10.00, 20.00, 50.00, 100.00]\n",
    "    change_ = change_given(float(cost.value), float(cash.value), coins_dollars)\n",
    "    change = change_[0]\n",
    "    nums = change_[1]\n",
    "    with output:\n",
    "        clear_output()\n",
    "        print()\n",
    "        print(f\"Change:\\t${change}\")\n",
    "        print()\n",
    "        for i in nums:\n",
    "            print(f\"Number of ${i[0]}'s\\t{int(i[1])}\")\n",
    "\n",
    "button_send.on_click(on_button_clicked)\n",
    "\n",
    "vbox_result = widgets.VBox([button_send, output])"
   ]
  },
  {
   "cell_type": "code",
   "execution_count": 7,
   "id": "f7a1a1fc",
   "metadata": {},
   "outputs": [],
   "source": [
    "# stacked right hand side\n",
    "\n",
    "text_0 = widgets.HTML(value = \"Cost\")\n",
    "text_1 = widgets.HTML(value = \"Amount Given\")\n",
    "\n",
    "vbox_text = widgets.VBox([text_0, cost, text_1, cash, vbox_result])\n",
    "\n"
   ]
  },
  {
   "cell_type": "code",
   "execution_count": 8,
   "id": "e2c5144a",
   "metadata": {},
   "outputs": [
    {
     "data": {
      "application/vnd.jupyter.widget-view+json": {
       "model_id": "cb467536c369428eb4b8089e61ce0dfa",
       "version_major": 2,
       "version_minor": 0
      },
      "text/plain": [
       "HBox(children=(VBox(children=(Image(value=b'\\xff\\xd8\\xff\\xe0\\x00\\x10JFIF\\x00\\x01\\x01\\x01\\x00\\xf0\\x00\\xf0\\x00\\x…"
      ]
     },
     "metadata": {},
     "output_type": "display_data"
    }
   ],
   "source": [
    "\n",
    "page = widgets.HBox([vbox_headline, vbox_text])\n",
    "display(page)\n",
    "\n"
   ]
  },
  {
   "cell_type": "code",
   "execution_count": null,
   "id": "87d0de31",
   "metadata": {},
   "outputs": [],
   "source": []
  }
 ],
 "metadata": {
  "kernelspec": {
   "display_name": "Python 3 (ipykernel)",
   "language": "python",
   "name": "python3"
  },
  "language_info": {
   "codemirror_mode": {
    "name": "ipython",
    "version": 3
   },
   "file_extension": ".py",
   "mimetype": "text/x-python",
   "name": "python",
   "nbconvert_exporter": "python",
   "pygments_lexer": "ipython3",
   "version": "3.9.15"
  }
 },
 "nbformat": 4,
 "nbformat_minor": 5
}
